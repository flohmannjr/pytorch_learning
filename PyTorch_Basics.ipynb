{
  "nbformat": 4,
  "nbformat_minor": 0,
  "metadata": {
    "colab": {
      "provenance": [],
      "toc_visible": true,
      "authorship_tag": "ABX9TyOIAAbeWU9CJFXiXON52rh1",
      "include_colab_link": true
    },
    "kernelspec": {
      "name": "python3",
      "display_name": "Python 3"
    },
    "language_info": {
      "name": "python"
    }
  },
  "cells": [
    {
      "cell_type": "markdown",
      "metadata": {
        "id": "view-in-github",
        "colab_type": "text"
      },
      "source": [
        "<a href=\"https://colab.research.google.com/github/flohmannjr/pytorch_learning/blob/main/PyTorch_Basics.ipynb\" target=\"_parent\"><img src=\"https://colab.research.google.com/assets/colab-badge.svg\" alt=\"Open In Colab\"/></a>"
      ]
    },
    {
      "cell_type": "markdown",
      "source": [
        "# PyTorch for Deep Learning & Machine Learning - Full Course - freeCodeCamp.org\n",
        "https://youtu.be/V_xro1bcAuA"
      ],
      "metadata": {
        "id": "zbicC97Ts8ZF"
      }
    },
    {
      "cell_type": "code",
      "source": [
        "import numpy as np\n",
        "import pandas as pd\n",
        "\n",
        "import matplotlib.pyplot as plt\n",
        "import seaborn as sns\n",
        "\n",
        "import torch\n",
        "\n",
        "from torch import nn"
      ],
      "metadata": {
        "id": "bNO04jbvtPHT"
      },
      "execution_count": 33,
      "outputs": []
    },
    {
      "cell_type": "code",
      "source": [
        "torch.__version__"
      ],
      "metadata": {
        "id": "NJjad80ctieV",
        "colab": {
          "base_uri": "https://localhost:8080/",
          "height": 35
        },
        "outputId": "c1d11734-aa37-48a4-e519-dd879ea2875e"
      },
      "execution_count": 34,
      "outputs": [
        {
          "output_type": "execute_result",
          "data": {
            "text/plain": [
              "'1.13.1+cu116'"
            ],
            "application/vnd.google.colaboratory.intrinsic+json": {
              "type": "string"
            }
          },
          "metadata": {},
          "execution_count": 34
        }
      ]
    },
    {
      "cell_type": "markdown",
      "source": [
        "# Configs"
      ],
      "metadata": {
        "id": "mz6h4BBW7QXP"
      }
    },
    {
      "cell_type": "code",
      "source": [
        "plt.rcParams['figure.figsize'] = [8, 5]\n",
        "plt.rcParams['figure.dpi'] = 100\n",
        "\n",
        "plt.style.use('seaborn-darkgrid')\n",
        "\n",
        "SEED = 4096\n",
        "\n",
        "DEVICE = 'cuda' if torch.cuda.is_available() else 'cpu'"
      ],
      "metadata": {
        "id": "PpZH0Cbu7Wzt"
      },
      "execution_count": 35,
      "outputs": []
    },
    {
      "cell_type": "markdown",
      "source": [
        "# Functions"
      ],
      "metadata": {
        "id": "PontflNI_YtB"
      }
    },
    {
      "cell_type": "code",
      "source": [
        "def get_lim(lim=[0, 1], test=[0, 1]):\n",
        "    return (min(min(lim), min(test)), max(max(lim), max(test)))\n",
        "\n",
        "def plot_data(X_train=[], y_train=[],\n",
        "              X_test=[], y_test=[],\n",
        "              X_pred=[], y_pred=[]):\n",
        "\n",
        "    padding = 0.05\n",
        "\n",
        "    xlim = get_lim()\n",
        "    ylim = get_lim()\n",
        "\n",
        "    legend_base = 0.995\n",
        "\n",
        "    if(len(X_train) > 0):\n",
        "\n",
        "        X_train = X_train.squeeze()\n",
        "        y_train = y_train.squeeze()\n",
        "\n",
        "        sns.scatterplot(x=X_train, y=y_train, size=1, legend=False, label='Train')\n",
        "\n",
        "        xlim = get_lim(xlim, X_train)\n",
        "        ylim = get_lim(ylim, y_train)\n",
        "\n",
        "        legend_base -= 0.06\n",
        "\n",
        "    if(len(X_test) > 0):\n",
        "\n",
        "        X_test = X_test.squeeze()\n",
        "        y_test = y_test.squeeze()\n",
        "\n",
        "        sns.scatterplot(x=X_test, y=y_test, size=1, legend=False, label='Test')\n",
        "\n",
        "        xlim = get_lim(xlim, X_test)\n",
        "        ylim = get_lim(ylim, y_test)\n",
        "\n",
        "        legend_base -= 0.06\n",
        "\n",
        "    if(len(X_pred) > 0):\n",
        "\n",
        "        X_pred = X_pred.squeeze()\n",
        "        y_pred = y_pred.squeeze()\n",
        "\n",
        "        sns.scatterplot(x=X_pred, y=y_pred, size=1, legend=False, label='Pred')\n",
        "\n",
        "        xlim = get_lim(xlim, X_pred)\n",
        "        ylim = get_lim(ylim, y_pred)\n",
        "\n",
        "        legend_base -= 0.06\n",
        "\n",
        "    plt.xlim(xlim[0] - padding, xlim[1] + padding)\n",
        "    plt.ylim(ylim[0] - padding, ylim[1] + padding)\n",
        "\n",
        "    plt.xticks(ticks=np.linspace(xlim[0], xlim[1], 11))\n",
        "    plt.yticks(ticks=np.linspace(ylim[0], ylim[1], 11))\n",
        "\n",
        "    plt.legend(loc=(1.02, legend_base), frameon=True, facecolor='white')\n",
        "\n",
        "    plt.show()"
      ],
      "metadata": {
        "id": "eWn-Tc-__aks"
      },
      "execution_count": 36,
      "outputs": []
    },
    {
      "cell_type": "markdown",
      "source": [
        "# Data"
      ],
      "metadata": {
        "id": "DmXWi5KJIVSl"
      }
    },
    {
      "cell_type": "markdown",
      "source": [
        "## Linear regression (y = ax + b)"
      ],
      "metadata": {
        "id": "G_sj2yZE8te3"
      }
    },
    {
      "cell_type": "code",
      "source": [
        "weight = 0.7\n",
        "bias = 0.3\n",
        "\n",
        "X = torch.arange(0, 1, 0.02).unsqueeze(dim=1)  # unsqueeze adds dimensions.\n",
        "y = weight * X + bias"
      ],
      "metadata": {
        "id": "Nu2IIXa-MhyP"
      },
      "execution_count": 37,
      "outputs": []
    },
    {
      "cell_type": "code",
      "source": [
        "# plot_data(X, y)"
      ],
      "metadata": {
        "id": "RMk7mD_2QkFA"
      },
      "execution_count": 38,
      "outputs": []
    },
    {
      "cell_type": "code",
      "source": [
        "n_train = int(len(X) * 0.8)\n",
        "\n",
        "X_train, X_test, y_train, y_test = X[:n_train], X[n_train:], y[:n_train], y[n_train:]"
      ],
      "metadata": {
        "id": "Nxnfc7XvOQTt"
      },
      "execution_count": 39,
      "outputs": []
    },
    {
      "cell_type": "code",
      "source": [
        "plot_data(X_train, y_train,\n",
        "          X_test, y_test)"
      ],
      "metadata": {
        "id": "JzQkCerQQb5P",
        "colab": {
          "base_uri": "https://localhost:8080/",
          "height": 433
        },
        "outputId": "c1b653df-973a-485d-a434-d0a4ba1437b6"
      },
      "execution_count": 40,
      "outputs": [
        {
          "output_type": "display_data",
          "data": {
            "text/plain": [
              "<Figure size 800x500 with 1 Axes>"
            ],
            "image/png": "[encoded data removed]"
          },
          "metadata": {}
        }
      ]
    },
    {
      "cell_type": "markdown",
      "source": [
        "# Model"
      ],
      "metadata": {
        "id": "5Pbaxm9ASPZm"
      }
    },
    {
      "cell_type": "code",
      "source": [
        "models = [None] * 10"
      ],
      "metadata": {
        "id": "yycRH6Ny3v99"
      },
      "execution_count": 41,
      "outputs": []
    },
    {
      "cell_type": "markdown",
      "source": [
        "## Linear regression"
      ],
      "metadata": {
        "id": "i97h2LzGC7a9"
      }
    },
    {
      "cell_type": "code",
      "source": [
        "class LRModel(nn.Module):\n",
        "\n",
        "    def __init__(self):\n",
        "        super().__init__()\n",
        "        self.weights = nn.Parameter(torch.randn(1, requires_grad=True, dtype=torch.float))\n",
        "        self.bias    = nn.Parameter(torch.randn(1, requires_grad=True, dtype=torch.float))\n",
        "    \n",
        "    def forward(self, x: torch.tensor) -> torch.tensor:\n",
        "        return self.weights * x + self.bias"
      ],
      "metadata": {
        "id": "Z4YNNlZQDUIc"
      },
      "execution_count": 42,
      "outputs": []
    },
    {
      "cell_type": "code",
      "source": [
        "torch.manual_seed(SEED)\n",
        "\n",
        "models[0] = LRModel()\n",
        "\n",
        "for p in models[0].parameters():\n",
        "    print(p)"
      ],
      "metadata": {
        "id": "p7-kfg2uH7_8",
        "colab": {
          "base_uri": "https://localhost:8080/"
        },
        "outputId": "7633b9ee-e007-4be4-b714-08281c584a58"
      },
      "execution_count": 58,
      "outputs": [
        {
          "output_type": "stream",
          "name": "stdout",
          "text": [
            "Parameter containing:\n",
            "tensor([1.5840], requires_grad=True)\n",
            "Parameter containing:\n",
            "tensor([0.5977], requires_grad=True)\n"
          ]
        }
      ]
    },
    {
      "cell_type": "code",
      "source": [
        "# https://pytorch.org/docs/stable/generated/torch.inference_mode.html\n",
        "# \"Code run under this mode gets better performance by disabling view tracking and version counter bumps.\"\n",
        "\n",
        "with torch.inference_mode():\n",
        "    y_pred = models[0](X_test)\n",
        "\n",
        "y_pred.squeeze()"
      ],
      "metadata": {
        "id": "WSiW31bP33rq",
        "colab": {
          "base_uri": "https://localhost:8080/"
        },
        "outputId": "4b0ef77b-3960-4f88-ddec-f59e6e8e224d"
      },
      "execution_count": 59,
      "outputs": [
        {
          "output_type": "execute_result",
          "data": {
            "text/plain": [
              "tensor([1.8649, 1.8965, 1.9282, 1.9599, 1.9916, 2.0233, 2.0549, 2.0866, 2.1183,\n",
              "        2.1500])"
            ]
          },
          "metadata": {},
          "execution_count": 59
        }
      ]
    },
    {
      "cell_type": "code",
      "source": [
        "plot_data(X_train, y_train,\n",
        "          X_test, y_test,\n",
        "          X_test, y_pred)"
      ],
      "metadata": {
        "id": "dCv3h2wd4KUK",
        "colab": {
          "base_uri": "https://localhost:8080/",
          "height": 433
        },
        "outputId": "9e12bfd0-5d08-4cee-ffed-de0a3e58056d"
      },
      "execution_count": 60,
      "outputs": [
        {
          "output_type": "display_data",
          "data": {
            "text/plain": [
              "<Figure size 800x500 with 1 Axes>"
            ],
            "image/png": "[encoded data removed]"
          },
          "metadata": {}
        }
      ]
    },
    {
      "cell_type": "code",
      "source": [
        "loss_func = nn.L1Loss()\n",
        "optimizer = torch.optim.SGD(params=models[0].parameters(), lr=0.01)"
      ],
      "metadata": {
        "id": "-W-lpiuK5lCy"
      },
      "execution_count": 61,
      "outputs": []
    },
    {
      "cell_type": "code",
      "source": [
        "epochs = 1\n",
        "\n",
        "for epoch in range(epochs):\n",
        "\n",
        "    # Set the model to training mode (turn on required gradients)\n",
        "    models[0].train()\n",
        "\n",
        "    # 1. Forward pass\n",
        "    y_pred = models[0](X_train)\n",
        "\n",
        "    # 2. Calculate the loss\n",
        "    loss = loss_func(y_pred, y_train)\n",
        "\n",
        "    # 3. Zero grad of the optimizer (optimizer changes will acculumate through the loop)\n",
        "    optimizer.zero_grad()\n",
        "\n",
        "    # 4. Perform backpropagation (calculate gradients of each parameter)\n",
        "    loss.backward()\n",
        "\n",
        "    # 5. Progress the optimizer (perform gradient descent)\n",
        "    optimizer.step()\n",
        "\n",
        "    # Set the model to evaluation mode (turns off settings not needed for evaluation)\n",
        "    models[0].eval()"
      ],
      "metadata": {
        "id": "_jwcjbCuuz7Q"
      },
      "execution_count": 62,
      "outputs": []
    },
    {
      "cell_type": "code",
      "source": [
        "models[0].state_dict()"
      ],
      "metadata": {
        "colab": {
          "base_uri": "https://localhost:8080/"
        },
        "id": "onSpaYRd6vGH",
        "outputId": "e286ad1a-e862-42dd-a43d-00ecdafe3a74"
      },
      "execution_count": 63,
      "outputs": [
        {
          "output_type": "execute_result",
          "data": {
            "text/plain": [
              "OrderedDict([('weights', tensor([1.5801])), ('bias', tensor([0.5877]))])"
            ]
          },
          "metadata": {},
          "execution_count": 63
        }
      ]
    },
    {
      "cell_type": "code",
      "source": [],
      "metadata": {
        "id": "DOqUrn1b4Pm5"
      },
      "execution_count": 63,
      "outputs": []
    }
  ]
}